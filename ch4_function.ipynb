{
  "nbformat": 4,
  "nbformat_minor": 0,
  "metadata": {
    "colab": {
      "name": "ch4_function.ipynb",
      "provenance": [],
      "authorship_tag": "ABX9TyMRaJCACmFS+iD1Alm/ML02",
      "include_colab_link": true
    },
    "kernelspec": {
      "name": "python3",
      "display_name": "Python 3"
    },
    "language_info": {
      "name": "python"
    }
  },
  "cells": [
    {
      "cell_type": "markdown",
      "metadata": {
        "id": "view-in-github",
        "colab_type": "text"
      },
      "source": [
        "<a href=\"https://colab.research.google.com/github/sejii93/2021fall-data-mining/blob/main/ch4_function.ipynb\" target=\"_parent\"><img src=\"https://colab.research.google.com/assets/colab-badge.svg\" alt=\"Open In Colab\"/></a>"
      ]
    },
    {
      "cell_type": "markdown",
      "source": [
        "데이터 마이닝 수업 실습"
      ],
      "metadata": {
        "id": "lP2WbiC9SuEX"
      }
    },
    {
      "cell_type": "code",
      "source": [
        ""
      ],
      "metadata": {
        "id": "FR-4iAM7Sy9X"
      },
      "execution_count": null,
      "outputs": []
    }
  ]
}